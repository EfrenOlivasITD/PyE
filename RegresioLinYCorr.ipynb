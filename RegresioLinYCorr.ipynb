{
  "nbformat": 4,
  "nbformat_minor": 0,
  "metadata": {
    "colab": {
      "provenance": [],
      "authorship_tag": "ABX9TyNWZ6xSAjOb9za/JAsW+nPw",
      "include_colab_link": true
    },
    "kernelspec": {
      "name": "python3",
      "display_name": "Python 3"
    },
    "language_info": {
      "name": "python"
    }
  },
  "cells": [
    {
      "cell_type": "markdown",
      "metadata": {
        "id": "view-in-github",
        "colab_type": "text"
      },
      "source": [
        "<a href=\"https://colab.research.google.com/github/EfrenOlivasITD/PyE/blob/main/RegresioLinYCorr.ipynb\" target=\"_parent\"><img src=\"https://colab.research.google.com/assets/colab-badge.svg\" alt=\"Open In Colab\"/></a>"
      ]
    },
    {
      "cell_type": "markdown",
      "source": [],
      "metadata": {
        "id": "OiB7XAp6We9j"
      }
    },
    {
      "cell_type": "code",
      "execution_count": 3,
      "metadata": {
        "colab": {
          "base_uri": "https://localhost:8080/"
        },
        "id": "yf68yP1QWYt9",
        "outputId": "7302ed52-d9bd-4d52-d792-6e5700b7d6cc"
      },
      "outputs": [
        {
          "output_type": "stream",
          "name": "stdout",
          "text": [
            "La ganancia esperada para el año 2024 es de: 36.0\n",
            "Coeficiente de la pendiente (m): 2.0000000000000004\n",
            "Intercepcion de la recta (b): 20.0\n"
          ]
        }
      ],
      "source": [
        "from sklearn.linear_model import LinearRegression # Modelo de regresión Lineal\n",
        "\n",
        "import numpy as np\n",
        "\n",
        "#Datos de entrada\n",
        "\n",
        "periodos = [2018, 2019, 2020, 2021, 2022, 2023]\n",
        "\n",
        "inversion = np.array([2, 3, 5, 4, 11, 5] ).reshape(-1, 1)\n",
        "\n",
        "ganancias = [20, 25, 34, 30, 40, 31]\n",
        "\n",
        "# Crear y entrenar el modelo de regresión Lineal\n",
        "\n",
        "modelo = LinearRegression()\n",
        "\n",
        "modelo.fit (inversion, ganancias)\n",
        "\n",
        "# Predecir la ganancia para el año 2024\n",
        "ganancia_2024 = modelo.predict([[8]])\n",
        "\n",
        "print(\"La ganancia esperada para el año 2024 es de:\", ganancia_2024[0])\n",
        "\n",
        "# Coeficientes de la regresión\n",
        "\n",
        "print(\"Coeficiente de la pendiente (m):\", modelo.coef_[0])\n",
        "\n",
        "print(\"Intercepcion de la recta (b):\", modelo.intercept_)"
      ]
    }
  ]
}